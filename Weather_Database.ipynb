{
 "cells": [
  {
   "cell_type": "code",
   "execution_count": 1,
   "metadata": {},
   "outputs": [],
   "source": [
    "# Imports the dependencies\n",
    "import pandas as pd\n",
    "import matplotlib.pyplot as plt\n",
    "import numpy as np\n",
    "# imports citipy information\n",
    "from citipy import citipy\n",
    "from config import weather_api_key\n",
    "# imports datetime\n",
    "from datetime import datetime\n",
    "# imports requests for API\n",
    "import requests\n",
    "# imports linear regression from the SciPy stats module\n",
    "from scipy.stats import linregress"
   ]
  },
  {
   "cell_type": "code",
   "execution_count": 2,
   "metadata": {},
   "outputs": [
    {
     "data": {
      "text/plain": [
       "<zip at 0x1d9d19a8a48>"
      ]
     },
     "execution_count": 2,
     "metadata": {},
     "output_type": "execute_result"
    }
   ],
   "source": [
    "# Generate random latitudes and longitudes\n",
    "lats = np.random.uniform(low=-90.000, high=90.000, size=1500)\n",
    "lngs = np.random.uniform(low=-180.000, high=180.000, size=1500)\n",
    "lat_lngs = zip(lats, lngs)\n",
    "lat_lngs "
   ]
  },
  {
   "cell_type": "code",
   "execution_count": 3,
   "metadata": {},
   "outputs": [],
   "source": [
    "# Add the latitudes and longitudes to a list.\n",
    "coordinates = list(lat_lngs)"
   ]
  },
  {
   "cell_type": "code",
   "execution_count": 4,
   "metadata": {},
   "outputs": [
    {
     "data": {
      "text/plain": [
       "606"
      ]
     },
     "execution_count": 4,
     "metadata": {},
     "output_type": "execute_result"
    }
   ],
   "source": [
    "# Creates list for holding cities\n",
    "cities = []\n",
    "# Finds cities close to our randomly generated coordinates of latitudes and longitiudes\n",
    "for coordinate in coordinates:\n",
    "    city = citipy.nearest_city(coordinate[0], coordinate[1]).city_name\n",
    "    \n",
    "    # Appends new cities to list\n",
    "    if city not in cities:\n",
    "        cities.append(city)\n",
    "# Print the city count to confirm sufficient count\n",
    "len(cities)"
   ]
  },
  {
   "cell_type": "code",
   "execution_count": 5,
   "metadata": {},
   "outputs": [
    {
     "name": "stdout",
     "output_type": "stream",
     "text": [
      "http://api.openweathermap.org/data/2.5/weather?units=Imperial&APPID=3b1524b72c9d769d7f291461dd29131e\n"
     ]
    }
   ],
   "source": [
    "# Beginning part of URL for Weather Map API Call\n",
    "url = \"http://api.openweathermap.org/data/2.5/weather?units=Imperial&APPID=\" + weather_api_key\n",
    "print(url)"
   ]
  },
  {
   "cell_type": "code",
   "execution_count": 6,
   "metadata": {},
   "outputs": [
    {
     "name": "stdout",
     "output_type": "stream",
     "text": [
      "Beginning Data Retrieval     \n",
      "-----------------------------\n",
      "Processing Record 1 of Set 1 | puerto ayora\n",
      "Processing Record 2 of Set 1 | butaritari\n",
      "Processing Record 3 of Set 1 | hobart\n",
      "Processing Record 4 of Set 1 | longyearbyen\n",
      "Processing Record 5 of Set 1 | honningsvag\n",
      "Processing Record 6 of Set 1 | esperance\n",
      "Processing Record 7 of Set 1 | busselton\n",
      "Processing Record 8 of Set 1 | mys shmidta\n",
      "mys shmidta not found. Skipping...\n",
      "Processing Record 9 of Set 1 | amderma\n"
     ]
    },
    {
     "name": "stderr",
     "output_type": "stream",
     "text": [
      "Traceback (most recent call last):\n",
      "  File \"<ipython-input-6-9fedc3df4737>\", line 34, in <module>\n",
      "    city_lat = city_weather[\"coord\"][\"lat\"]\n",
      "KeyError: 'coord'\n"
     ]
    },
    {
     "name": "stdout",
     "output_type": "stream",
     "text": [
      "amderma not found. Skipping...\n",
      "Processing Record 10 of Set 1 | liverpool\n"
     ]
    },
    {
     "name": "stderr",
     "output_type": "stream",
     "text": [
      "Traceback (most recent call last):\n",
      "  File \"<ipython-input-6-9fedc3df4737>\", line 34, in <module>\n",
      "    city_lat = city_weather[\"coord\"][\"lat\"]\n",
      "KeyError: 'coord'\n"
     ]
    },
    {
     "name": "stdout",
     "output_type": "stream",
     "text": [
      "Processing Record 11 of Set 1 | illoqqortoormiut\n",
      "illoqqortoormiut not found. Skipping...\n",
      "Processing Record 12 of Set 1 | saint-augustin\n",
      "Processing Record 13 of Set 1 | lebu\n"
     ]
    },
    {
     "name": "stderr",
     "output_type": "stream",
     "text": [
      "Traceback (most recent call last):\n",
      "  File \"<ipython-input-6-9fedc3df4737>\", line 34, in <module>\n",
      "    city_lat = city_weather[\"coord\"][\"lat\"]\n",
      "KeyError: 'coord'\n"
     ]
    },
    {
     "name": "stdout",
     "output_type": "stream",
     "text": [
      "Processing Record 14 of Set 1 | punta arenas\n",
      "Processing Record 15 of Set 1 | bac lieu\n",
      "Processing Record 16 of Set 1 | bluff\n",
      "Processing Record 17 of Set 1 | cape town\n",
      "Processing Record 18 of Set 1 | novogornyy\n",
      "Processing Record 19 of Set 1 | mataura\n",
      "Processing Record 20 of Set 1 | hami\n",
      "Processing Record 21 of Set 1 | sasina\n",
      "Processing Record 22 of Set 1 | gilbues\n",
      "Processing Record 23 of Set 1 | nizhneyansk\n",
      "nizhneyansk not found. Skipping...\n",
      "Processing Record 24 of Set 1 | faanui\n"
     ]
    },
    {
     "name": "stderr",
     "output_type": "stream",
     "text": [
      "Traceback (most recent call last):\n",
      "  File \"<ipython-input-6-9fedc3df4737>\", line 34, in <module>\n",
      "    city_lat = city_weather[\"coord\"][\"lat\"]\n",
      "KeyError: 'coord'\n"
     ]
    },
    {
     "name": "stdout",
     "output_type": "stream",
     "text": [
      "Processing Record 25 of Set 1 | komsomolskiy\n",
      "Processing Record 26 of Set 1 | portel\n",
      "Processing Record 27 of Set 1 | lorengau\n",
      "Processing Record 28 of Set 1 | araouane\n",
      "Processing Record 29 of Set 1 | bredasdorp\n",
      "Processing Record 30 of Set 1 | mahanoro\n",
      "Processing Record 31 of Set 1 | jamestown\n",
      "Processing Record 32 of Set 1 | rochester\n",
      "Processing Record 33 of Set 1 | batagay\n",
      "Processing Record 34 of Set 1 | taolanaro\n",
      "taolanaro not found. Skipping...\n",
      "Processing Record 35 of Set 1 | ushuaia\n",
      "Processing Record 36 of Set 1 | roma"
     ]
    },
    {
     "name": "stderr",
     "output_type": "stream",
     "text": [
      "Traceback (most recent call last):\n",
      "  File \"<ipython-input-6-9fedc3df4737>\", line 34, in <module>\n",
      "    city_lat = city_weather[\"coord\"][\"lat\"]\n",
      "KeyError: 'coord'\n"
     ]
    },
    {
     "name": "stdout",
     "output_type": "stream",
     "text": [
      "\n",
      "Processing Record 37 of Set 1 | rehoboth\n",
      "Processing Record 38 of Set 1 | severo-kurilsk\n",
      "Processing Record 39 of Set 1 | marawi\n",
      "Processing Record 40 of Set 1 | kodiak\n",
      "Processing Record 41 of Set 1 | sentyabrskiy\n",
      "sentyabrskiy not found. Skipping...\n",
      "Processing Record 42 of Set 1 | port alfred\n",
      "Processing Record 43 of Set 1 | ballina\n"
     ]
    },
    {
     "name": "stderr",
     "output_type": "stream",
     "text": [
      "Traceback (most recent call last):\n",
      "  File \"<ipython-input-6-9fedc3df4737>\", line 34, in <module>\n",
      "    city_lat = city_weather[\"coord\"][\"lat\"]\n",
      "KeyError: 'coord'\n"
     ]
    },
    {
     "name": "stdout",
     "output_type": "stream",
     "text": [
      "Processing Record 44 of Set 1 | bambous virieux\n",
      "Processing Record 45 of Set 1 | union\n",
      "Processing Record 46 of Set 1 | tuktoyaktuk\n",
      "Processing Record 47 of Set 1 | gizo\n",
      "Processing Record 48 of Set 1 | albany\n",
      "Processing Record 49 of Set 1 | hithadhoo\n",
      "Processing Record 50 of Set 1 | meridian\n",
      "Processing Record 1 of Set 2 | male\n",
      "Processing Record 2 of Set 2 | bafata\n",
      "Processing Record 3 of Set 2 | taltal\n",
      "Processing Record 4 of Set 2 | warqla\n",
      "warqla not found. Skipping...\n",
      "Processing Record 5 of Set 2 | takapau\n"
     ]
    },
    {
     "name": "stderr",
     "output_type": "stream",
     "text": [
      "Traceback (most recent call last):\n",
      "  File \"<ipython-input-6-9fedc3df4737>\", line 34, in <module>\n",
      "    city_lat = city_weather[\"coord\"][\"lat\"]\n",
      "KeyError: 'coord'\n"
     ]
    },
    {
     "name": "stdout",
     "output_type": "stream",
     "text": [
      "Processing Record 6 of Set 2 | dikson\n",
      "Processing Record 7 of Set 2 | rikitea\n",
      "Processing Record 8 of Set 2 | kalawit\n",
      "Processing Record 9 of Set 2 | hutang\n",
      "Processing Record 10 of Set 2 | puerto carreno\n",
      "Processing Record 11 of Set 2 | kulu\n",
      "Processing Record 12 of Set 2 | saleaula\n",
      "saleaula not found. Skipping...\n"
     ]
    },
    {
     "name": "stderr",
     "output_type": "stream",
     "text": [
      "Traceback (most recent call last):\n",
      "  File \"<ipython-input-6-9fedc3df4737>\", line 34, in <module>\n",
      "    city_lat = city_weather[\"coord\"][\"lat\"]\n",
      "KeyError: 'coord'\n"
     ]
    },
    {
     "name": "stdout",
     "output_type": "stream",
     "text": [
      "Processing Record 13 of Set 2 | betanzos\n",
      "Processing Record 14 of Set 2 | iqaluit\n",
      "Processing Record 15 of Set 2 | cidreira\n",
      "Processing Record 16 of Set 2 | vaini\n",
      "Processing Record 17 of Set 2 | zhoucheng\n",
      "Processing Record 18 of Set 2 | turukhansk\n",
      "Processing Record 19 of Set 2 | pevek\n",
      "Processing Record 20 of Set 2 | saint anthony\n",
      "Processing Record 21 of Set 2 | hermanus\n",
      "Processing Record 22 of Set 2 | arraial do cabo\n",
      "Processing Record 23 of Set 2 | sochi\n",
      "Processing Record 24 of Set 2 | upernavik\n",
      "Processing Record 25 of Set 2 | isangel\n",
      "Processing Record 26 of Set 2 | cherskiy\n",
      "Processing Record 27 of Set 2 | opuwo\n",
      "Processing Record 28 of Set 2 | belushya guba\n",
      "belushya guba not found. Skipping...\n"
     ]
    },
    {
     "name": "stderr",
     "output_type": "stream",
     "text": [
      "Traceback (most recent call last):\n",
      "  File \"<ipython-input-6-9fedc3df4737>\", line 34, in <module>\n",
      "    city_lat = city_weather[\"coord\"][\"lat\"]\n",
      "KeyError: 'coord'\n"
     ]
    },
    {
     "name": "stdout",
     "output_type": "stream",
     "text": [
      "Processing Record 29 of Set 2 | chuy\n",
      "Processing Record 30 of Set 2 | kloulklubed\n",
      "Processing Record 31 of Set 2 | peleduy\n",
      "Processing Record 32 of Set 2 | wasilla\n",
      "Processing Record 33 of Set 2 | mount isa\n",
      "Processing Record 34 of Set 2 | marcona\n",
      "marcona not found. Skipping...\n",
      "Processing Record 35 of Set 2 | hilo\n"
     ]
    },
    {
     "name": "stderr",
     "output_type": "stream",
     "text": [
      "Traceback (most recent call last):\n",
      "  File \"<ipython-input-6-9fedc3df4737>\", line 34, in <module>\n",
      "    city_lat = city_weather[\"coord\"][\"lat\"]\n",
      "KeyError: 'coord'\n"
     ]
    },
    {
     "name": "stdout",
     "output_type": "stream",
     "text": [
      "Processing Record 36 of Set 2 | agadez\n",
      "Processing Record 37 of Set 2 | vauvert\n",
      "Processing Record 38 of Set 2 | viseu\n",
      "Processing Record 39 of Set 2 | malindi\n",
      "Processing Record 40 of Set 2 | auki\n",
      "Processing Record 41 of Set 2 | raga\n",
      "Processing Record 42 of Set 2 | rawah\n",
      "Processing Record 43 of Set 2 | chiredzi\n",
      "Processing Record 44 of Set 2 | nampula\n",
      "Processing Record 45 of Set 2 | barentsburg\n",
      "barentsburg not found. Skipping...\n",
      "Processing Record 46 of Set 2 | atuona\n",
      "Processing Record 47 of Set 2 | pisco\n"
     ]
    },
    {
     "name": "stderr",
     "output_type": "stream",
     "text": [
      "Traceback (most recent call last):\n",
      "  File \"<ipython-input-6-9fedc3df4737>\", line 34, in <module>\n",
      "    city_lat = city_weather[\"coord\"][\"lat\"]\n",
      "KeyError: 'coord'\n"
     ]
    },
    {
     "name": "stdout",
     "output_type": "stream",
     "text": [
      "Processing Record 48 of Set 2 | sumbawa\n",
      "sumbawa not found. Skipping...\n"
     ]
    },
    {
     "name": "stderr",
     "output_type": "stream",
     "text": [
      "Traceback (most recent call last):\n",
      "  File \"<ipython-input-6-9fedc3df4737>\", line 34, in <module>\n",
      "    city_lat = city_weather[\"coord\"][\"lat\"]\n",
      "KeyError: 'coord'\n"
     ]
    },
    {
     "name": "stdout",
     "output_type": "stream",
     "text": [
      "Processing Record 49 of Set 2 | karratha\n",
      "Processing Record 50 of Set 2 | champerico\n",
      "Processing Record 1 of Set 3 | crib point\n",
      "Processing Record 2 of Set 3 | bethel\n",
      "Processing Record 3 of Set 3 | belyy yar\n",
      "Processing Record 4 of Set 3 | caranavi\n",
      "Processing Record 5 of Set 3 | luzhou\n",
      "Processing Record 6 of Set 3 | zvishavane\n",
      "Processing Record 7 of Set 3 | muli\n",
      "Processing Record 8 of Set 3 | avarua\n",
      "Processing Record 9 of Set 3 | mar del plata\n",
      "Processing Record 10 of Set 3 | udachnyy\n",
      "Processing Record 11 of Set 3 | kieta\n",
      "Processing Record 12 of Set 3 | shagonar\n",
      "Processing Record 13 of Set 3 | lokosovo\n",
      "Processing Record 14 of Set 3 | luderitz\n",
      "Processing Record 15 of Set 3 | ahipara\n",
      "Processing Record 16 of Set 3 | palabuhanratu\n",
      "palabuhanratu not found. Skipping...\n",
      "Processing Record 17 of Set 3 | apatou\n"
     ]
    },
    {
     "name": "stderr",
     "output_type": "stream",
     "text": [
      "Traceback (most recent call last):\n",
      "  File \"<ipython-input-6-9fedc3df4737>\", line 34, in <module>\n",
      "    city_lat = city_weather[\"coord\"][\"lat\"]\n",
      "KeyError: 'coord'\n"
     ]
    },
    {
     "name": "stdout",
     "output_type": "stream",
     "text": [
      "Processing Record 18 of Set 3 | tsihombe\n",
      "tsihombe not found. Skipping...\n"
     ]
    },
    {
     "name": "stderr",
     "output_type": "stream",
     "text": [
      "Traceback (most recent call last):\n",
      "  File \"<ipython-input-6-9fedc3df4737>\", line 34, in <module>\n",
      "    city_lat = city_weather[\"coord\"][\"lat\"]\n",
      "KeyError: 'coord'\n"
     ]
    },
    {
     "name": "stdout",
     "output_type": "stream",
     "text": [
      "Processing Record 19 of Set 3 | souillac\n",
      "Processing Record 20 of Set 3 | mahebourg\n",
      "Processing Record 21 of Set 3 | tambura\n",
      "Processing Record 22 of Set 3 | ponta do sol\n",
      "Processing Record 23 of Set 3 | saint-philippe\n",
      "Processing Record 24 of Set 3 | nemuro\n",
      "Processing Record 25 of Set 3 | saskylakh\n",
      "Processing Record 26 of Set 3 | keflavik\n",
      "Processing Record 27 of Set 3 | masterton\n",
      "Processing Record 28 of Set 3 | ziarat\n",
      "Processing Record 29 of Set 3 | salisbury\n",
      "Processing Record 30 of Set 3 | lompoc\n",
      "Processing Record 31 of Set 3 | namibe\n",
      "Processing Record 32 of Set 3 | norman wells\n",
      "Processing Record 33 of Set 3 | barrow\n",
      "Processing Record 34 of Set 3 | kruisfontein\n",
      "Processing Record 35 of Set 3 | porto novo\n",
      "Processing Record 36 of Set 3 | yanan\n",
      "yanan not found. Skipping...\n"
     ]
    },
    {
     "name": "stderr",
     "output_type": "stream",
     "text": [
      "Traceback (most recent call last):\n",
      "  File \"<ipython-input-6-9fedc3df4737>\", line 34, in <module>\n",
      "    city_lat = city_weather[\"coord\"][\"lat\"]\n",
      "KeyError: 'coord'\n"
     ]
    },
    {
     "name": "stdout",
     "output_type": "stream",
     "text": [
      "Processing Record 37 of Set 3 | general elizardo aquino\n",
      "Processing Record 38 of Set 3 | campoverde\n",
      "Processing Record 39 of Set 3 | mossendjo\n",
      "Processing Record 40 of Set 3 | castro\n",
      "Processing Record 41 of Set 3 | kaitangata\n",
      "Processing Record 42 of Set 3 | namatanai\n",
      "Processing Record 43 of Set 3 | teya\n",
      "Processing Record 44 of Set 3 | oussouye\n",
      "Processing Record 45 of Set 3 | curillo\n",
      "Processing Record 46 of Set 3 | port elizabeth\n",
      "Processing Record 47 of Set 3 | saldanha\n",
      "Processing Record 48 of Set 3 | nikolskoye\n",
      "Processing Record 49 of Set 3 | yellowknife\n",
      "Processing Record 50 of Set 3 | hambantota\n",
      "Processing Record 1 of Set 4 | kamenka\n",
      "Processing Record 2 of Set 4 | rottingdean\n",
      "Processing Record 3 of Set 4 | loviisa\n",
      "Processing Record 4 of Set 4 | marsh harbour\n",
      "Processing Record 5 of Set 4 | kazachinskoye\n",
      "Processing Record 6 of Set 4 | qaanaaq\n",
      "Processing Record 7 of Set 4 | lyaskelya\n",
      "Processing Record 8 of Set 4 | providencia\n",
      "Processing Record 9 of Set 4 | cayenne\n",
      "Processing Record 10 of Set 4 | vostok\n",
      "Processing Record 11 of Set 4 | clyde river\n",
      "Processing Record 12 of Set 4 | haines junction\n",
      "Processing Record 13 of Set 4 | ilulissat\n",
      "Processing Record 14 of Set 4 | vardo\n",
      "Processing Record 15 of Set 4 | kapaa\n",
      "Processing Record 16 of Set 4 | georgiyevka\n",
      "Processing Record 17 of Set 4 | aklavik\n",
      "Processing Record 18 of Set 4 | northam\n",
      "Processing Record 19 of Set 4 | santa maria\n",
      "Processing Record 20 of Set 4 | provideniya\n",
      "Processing Record 21 of Set 4 | mrirt\n",
      "mrirt not found. Skipping...\n",
      "Processing Record 22 of Set 4 | airai\n"
     ]
    },
    {
     "name": "stderr",
     "output_type": "stream",
     "text": [
      "Traceback (most recent call last):\n",
      "  File \"<ipython-input-6-9fedc3df4737>\", line 34, in <module>\n",
      "    city_lat = city_weather[\"coord\"][\"lat\"]\n",
      "KeyError: 'coord'\n"
     ]
    },
    {
     "name": "stdout",
     "output_type": "stream",
     "text": [
      "Processing Record 23 of Set 4 | okha\n",
      "Processing Record 24 of Set 4 | sur\n",
      "Processing Record 25 of Set 4 | evensk\n",
      "Processing Record 26 of Set 4 | narsaq\n",
      "Processing Record 27 of Set 4 | shelburne\n",
      "Processing Record 28 of Set 4 | atar\n",
      "Processing Record 29 of Set 4 | beira\n",
      "Processing Record 30 of Set 4 | pingyin\n",
      "Processing Record 31 of Set 4 | hofn\n",
      "Processing Record 32 of Set 4 | fayaoue\n",
      "Processing Record 33 of Set 4 | felipe carrillo puerto\n",
      "Processing Record 34 of Set 4 | leningradskiy\n",
      "Processing Record 35 of Set 4 | faya\n",
      "Processing Record 36 of Set 4 | talnakh\n",
      "Processing Record 37 of Set 4 | djibo\n",
      "Processing Record 38 of Set 4 | inyonga\n",
      "Processing Record 39 of Set 4 | avera\n",
      "Processing Record 40 of Set 4 | galdar\n",
      "Processing Record 41 of Set 4 | pringsewu\n",
      "Processing Record 42 of Set 4 | conde\n",
      "Processing Record 43 of Set 4 | samarai\n",
      "Processing Record 44 of Set 4 | tommot\n",
      "Processing Record 45 of Set 4 | sao gabriel\n",
      "Processing Record 46 of Set 4 | khatanga\n",
      "Processing Record 47 of Set 4 | port hedland\n",
      "Processing Record 48 of Set 4 | batagay-alyta\n",
      "Processing Record 49 of Set 4 | putina\n",
      "Processing Record 50 of Set 4 | erdenet\n",
      "Processing Record 1 of Set 5 | guerrero negro\n",
      "Processing Record 2 of Set 5 | dzhusaly\n",
      "dzhusaly not found. Skipping...\n"
     ]
    },
    {
     "name": "stderr",
     "output_type": "stream",
     "text": [
      "Traceback (most recent call last):\n",
      "  File \"<ipython-input-6-9fedc3df4737>\", line 34, in <module>\n",
      "    city_lat = city_weather[\"coord\"][\"lat\"]\n",
      "KeyError: 'coord'\n"
     ]
    },
    {
     "name": "stdout",
     "output_type": "stream",
     "text": [
      "Processing Record 3 of Set 5 | hearst\n",
      "Processing Record 4 of Set 5 | tabiauea\n",
      "tabiauea not found. Skipping...\n",
      "Processing Record 5 of Set 5 | kenai\n",
      "Processing Record 6 of Set 5 | shushenskoye\n"
     ]
    },
    {
     "name": "stderr",
     "output_type": "stream",
     "text": [
      "Traceback (most recent call last):\n",
      "  File \"<ipython-input-6-9fedc3df4737>\", line 34, in <module>\n",
      "    city_lat = city_weather[\"coord\"][\"lat\"]\n",
      "KeyError: 'coord'\n"
     ]
    },
    {
     "name": "stdout",
     "output_type": "stream",
     "text": [
      "Processing Record 7 of Set 5 | lowestoft\n",
      "Processing Record 8 of Set 5 | bonthe\n",
      "Processing Record 9 of Set 5 | virginia beach\n",
      "Processing Record 10 of Set 5 | kokopo\n",
      "Processing Record 11 of Set 5 | padang\n",
      "Processing Record 12 of Set 5 | nigde\n",
      "Processing Record 13 of Set 5 | louisbourg\n",
      "louisbourg not found. Skipping...\n",
      "Processing Record 14 of Set 5 | san patricio\n",
      "Processing Record 15 of Set 5 | killybegs\n"
     ]
    },
    {
     "name": "stderr",
     "output_type": "stream",
     "text": [
      "Traceback (most recent call last):\n",
      "  File \"<ipython-input-6-9fedc3df4737>\", line 34, in <module>\n",
      "    city_lat = city_weather[\"coord\"][\"lat\"]\n",
      "KeyError: 'coord'\n"
     ]
    },
    {
     "name": "stdout",
     "output_type": "stream",
     "text": [
      "Processing Record 16 of Set 5 | pacific grove\n",
      "Processing Record 17 of Set 5 | olafsvik\n",
      "Processing Record 18 of Set 5 | channel-port aux basques\n",
      "Processing Record 19 of Set 5 | betsiamites\n",
      "Processing Record 20 of Set 5 | kirksville\n",
      "Processing Record 21 of Set 5 | quepos\n",
      "Processing Record 22 of Set 5 | vila\n",
      "Processing Record 23 of Set 5 | woodburn\n",
      "Processing Record 24 of Set 5 | lazaro cardenas\n",
      "Processing Record 25 of Set 5 | nelson bay\n",
      "Processing Record 26 of Set 5 | pimentel\n",
      "Processing Record 27 of Set 5 | boa esperanca do sul\n",
      "Processing Record 28 of Set 5 | trincomalee\n",
      "Processing Record 29 of Set 5 | hailakandi\n",
      "Processing Record 30 of Set 5 | thompson\n",
      "Processing Record 31 of Set 5 | new norfolk\n",
      "Processing Record 32 of Set 5 | bengkulu\n",
      "Processing Record 33 of Set 5 | miri\n",
      "Processing Record 34 of Set 5 | sangar\n",
      "Processing Record 35 of Set 5 | alashtar\n",
      "alashtar not found. Skipping...\n",
      "Processing Record 36 of Set 5 | belaya gora\n",
      "Processing Record 37 of Set 5 | iquique"
     ]
    },
    {
     "name": "stderr",
     "output_type": "stream",
     "text": [
      "Traceback (most recent call last):\n",
      "  File \"<ipython-input-6-9fedc3df4737>\", line 34, in <module>\n",
      "    city_lat = city_weather[\"coord\"][\"lat\"]\n",
      "KeyError: 'coord'\n"
     ]
    },
    {
     "name": "stdout",
     "output_type": "stream",
     "text": [
      "\n",
      "Processing Record 38 of Set 5 | tocopilla\n",
      "Processing Record 39 of Set 5 | durban\n",
      "Processing Record 40 of Set 5 | katsuura\n",
      "Processing Record 41 of Set 5 | kusti\n",
      "Processing Record 42 of Set 5 | west wendover\n",
      "Processing Record 43 of Set 5 | vila franca do campo\n",
      "Processing Record 44 of Set 5 | lolua\n",
      "lolua not found. Skipping...\n"
     ]
    },
    {
     "name": "stderr",
     "output_type": "stream",
     "text": [
      "Traceback (most recent call last):\n",
      "  File \"<ipython-input-6-9fedc3df4737>\", line 34, in <module>\n",
      "    city_lat = city_weather[\"coord\"][\"lat\"]\n",
      "KeyError: 'coord'\n"
     ]
    },
    {
     "name": "stdout",
     "output_type": "stream",
     "text": [
      "Processing Record 45 of Set 5 | husavik\n",
      "Processing Record 46 of Set 5 | codrington\n",
      "Processing Record 47 of Set 5 | moga\n",
      "Processing Record 48 of Set 5 | alyangula\n",
      "Processing Record 49 of Set 5 | leshukonskoye\n",
      "Processing Record 50 of Set 5 | urusha\n",
      "Processing Record 1 of Set 6 | iracoubo\n",
      "Processing Record 2 of Set 6 | peniche\n",
      "Processing Record 3 of Set 6 | bedesa\n",
      "Processing Record 4 of Set 6 | okato\n",
      "Processing Record 5 of Set 6 | tiarei\n",
      "Processing Record 6 of Set 6 | te anau\n",
      "Processing Record 7 of Set 6 | borogontsy\n",
      "Processing Record 8 of Set 6 | carutapera\n",
      "Processing Record 9 of Set 6 | ribeira grande\n",
      "Processing Record 10 of Set 6 | sidi ali\n",
      "Processing Record 11 of Set 6 | bandarbeyla\n",
      "Processing Record 12 of Set 6 | aswan\n",
      "Processing Record 13 of Set 6 | tasiilaq\n",
      "Processing Record 14 of Set 6 | chenzhou\n",
      "Processing Record 15 of Set 6 | mount gambier\n",
      "Processing Record 16 of Set 6 | maghama\n",
      "maghama not found. Skipping...\n",
      "Processing Record 17 of Set 6 | yichang\n",
      "Processing Record 18 of Set 6 | kahului\n"
     ]
    },
    {
     "name": "stderr",
     "output_type": "stream",
     "text": [
      "Traceback (most recent call last):\n",
      "  File \"<ipython-input-6-9fedc3df4737>\", line 34, in <module>\n",
      "    city_lat = city_weather[\"coord\"][\"lat\"]\n",
      "KeyError: 'coord'\n"
     ]
    },
    {
     "name": "stdout",
     "output_type": "stream",
     "text": [
      "Processing Record 19 of Set 6 | los llanos de aridane\n",
      "Processing Record 20 of Set 6 | adrar\n",
      "Processing Record 21 of Set 6 | dumas\n",
      "Processing Record 22 of Set 6 | yabelo\n",
      "Processing Record 23 of Set 6 | shimoda\n",
      "Processing Record 24 of Set 6 | saint-ambroise\n",
      "Processing Record 25 of Set 6 | gorontalo\n",
      "Processing Record 26 of Set 6 | constitucion\n",
      "Processing Record 27 of Set 6 | tumpat\n",
      "Processing Record 28 of Set 6 | ust-nera\n",
      "Processing Record 29 of Set 6 | lahaina\n",
      "Processing Record 30 of Set 6 | attawapiskat\n",
      "attawapiskat not found. Skipping...\n"
     ]
    },
    {
     "name": "stderr",
     "output_type": "stream",
     "text": [
      "Traceback (most recent call last):\n",
      "  File \"<ipython-input-6-9fedc3df4737>\", line 34, in <module>\n",
      "    city_lat = city_weather[\"coord\"][\"lat\"]\n",
      "KeyError: 'coord'\n"
     ]
    },
    {
     "name": "stdout",
     "output_type": "stream",
     "text": [
      "Processing Record 31 of Set 6 | payakumbuh\n",
      "Processing Record 32 of Set 6 | iwanai\n",
      "Processing Record 33 of Set 6 | yomitan\n",
      "yomitan not found. Skipping...\n"
     ]
    },
    {
     "name": "stderr",
     "output_type": "stream",
     "text": [
      "Traceback (most recent call last):\n",
      "  File \"<ipython-input-6-9fedc3df4737>\", line 34, in <module>\n",
      "    city_lat = city_weather[\"coord\"][\"lat\"]\n",
      "KeyError: 'coord'\n"
     ]
    },
    {
     "name": "stdout",
     "output_type": "stream",
     "text": [
      "Processing Record 34 of Set 6 | walvis bay\n",
      "Processing Record 35 of Set 6 | kawalu\n",
      "Processing Record 36 of Set 6 | baykit\n",
      "Processing Record 37 of Set 6 | verkh-usugli\n",
      "Processing Record 38 of Set 6 | la ronge\n",
      "Processing Record 39 of Set 6 | ust-kuyga\n",
      "Processing Record 40 of Set 6 | saint george\n",
      "Processing Record 41 of Set 6 | phu ly\n",
      "Processing Record 42 of Set 6 | tshela\n",
      "Processing Record 43 of Set 6 | bairiki\n",
      "Processing Record 44 of Set 6 | fortuna\n",
      "Processing Record 45 of Set 6 | sola\n",
      "Processing Record 46 of Set 6 | klaksvik\n",
      "Processing Record 47 of Set 6 | marsa matruh\n",
      "Processing Record 48 of Set 6 | rawson\n",
      "Processing Record 49 of Set 6 | christchurch\n",
      "Processing Record 50 of Set 6 | dryden\n",
      "Processing Record 1 of Set 7 | alofi\n",
      "Processing Record 2 of Set 7 | madimba\n",
      "Processing Record 3 of Set 7 | mirabad\n",
      "Processing Record 4 of Set 7 | shenjiamen\n",
      "Processing Record 5 of Set 7 | sulangan\n",
      "Processing Record 6 of Set 7 | lavrentiya\n",
      "Processing Record 7 of Set 7 | beyneu\n",
      "Processing Record 8 of Set 7 | itamarandiba\n",
      "Processing Record 9 of Set 7 | ecoporanga\n",
      "Processing Record 10 of Set 7 | salalah\n",
      "Processing Record 11 of Set 7 | tashara\n",
      "Processing Record 12 of Set 7 | capaci\n",
      "Processing Record 13 of Set 7 | toora-khem\n",
      "Processing Record 14 of Set 7 | huarmey\n",
      "Processing Record 15 of Set 7 | ciudad bolivar\n",
      "Processing Record 16 of Set 7 | abu zabad\n",
      "Processing Record 17 of Set 7 | ananindeua\n",
      "Processing Record 18 of Set 7 | barawe\n",
      "barawe not found. Skipping...\n",
      "Processing Record 19 of Set 7 | carballo\n"
     ]
    },
    {
     "name": "stderr",
     "output_type": "stream",
     "text": [
      "Traceback (most recent call last):\n",
      "  File \"<ipython-input-6-9fedc3df4737>\", line 34, in <module>\n",
      "    city_lat = city_weather[\"coord\"][\"lat\"]\n",
      "KeyError: 'coord'\n"
     ]
    },
    {
     "name": "stdout",
     "output_type": "stream",
     "text": [
      "Processing Record 20 of Set 7 | port blair\n",
      "Processing Record 21 of Set 7 | falealupo\n",
      "falealupo not found. Skipping...\n",
      "Processing Record 22 of Set 7 | sarangani\n",
      "Processing Record 23 of Set 7 | georgetown\n"
     ]
    },
    {
     "name": "stderr",
     "output_type": "stream",
     "text": [
      "Traceback (most recent call last):\n",
      "  File \"<ipython-input-6-9fedc3df4737>\", line 34, in <module>\n",
      "    city_lat = city_weather[\"coord\"][\"lat\"]\n",
      "KeyError: 'coord'\n"
     ]
    },
    {
     "name": "stdout",
     "output_type": "stream",
     "text": [
      "Processing Record 24 of Set 7 | razole\n",
      "Processing Record 25 of Set 7 | chicama\n",
      "Processing Record 26 of Set 7 | burica\n",
      "burica not found. Skipping...\n",
      "Processing Record 27 of Set 7 | alotau\n",
      "alotau not found. Skipping...\n"
     ]
    },
    {
     "name": "stderr",
     "output_type": "stream",
     "text": [
      "Traceback (most recent call last):\n",
      "  File \"<ipython-input-6-9fedc3df4737>\", line 34, in <module>\n",
      "    city_lat = city_weather[\"coord\"][\"lat\"]\n",
      "KeyError: 'coord'\n"
     ]
    },
    {
     "name": "stdout",
     "output_type": "stream",
     "text": [
      "Processing Record 28 of Set 7 | paamiut\n",
      "Processing Record 29 of Set 7 | nanakuli\n",
      "Processing Record 30 of Set 7 | pangkalanbuun\n",
      "Processing Record 31 of Set 7 | nishihara\n",
      "Processing Record 32 of Set 7 | skalistyy\n",
      "skalistyy not found. Skipping...\n",
      "Processing Record 33 of Set 7 | tshikapa\n"
     ]
    },
    {
     "name": "stderr",
     "output_type": "stream",
     "text": [
      "Traceback (most recent call last):\n",
      "  File \"<ipython-input-6-9fedc3df4737>\", line 34, in <module>\n",
      "    city_lat = city_weather[\"coord\"][\"lat\"]\n",
      "KeyError: 'coord'\n",
      "Traceback (most recent call last):\n",
      "  File \"<ipython-input-6-9fedc3df4737>\", line 34, in <module>\n",
      "    city_lat = city_weather[\"coord\"][\"lat\"]\n",
      "KeyError: 'coord'\n"
     ]
    },
    {
     "name": "stdout",
     "output_type": "stream",
     "text": [
      "Processing Record 34 of Set 7 | lata\n",
      "Processing Record 35 of Set 7 | london\n",
      "Processing Record 36 of Set 7 | kaohsiung\n",
      "Processing Record 37 of Set 7 | zhuanghe\n",
      "Processing Record 38 of Set 7 | havoysund\n",
      "Processing Record 39 of Set 7 | aykhal\n",
      "Processing Record 40 of Set 7 | tual\n",
      "Processing Record 41 of Set 7 | la paz\n",
      "Processing Record 42 of Set 7 | massakory\n",
      "Processing Record 43 of Set 7 | limon\n",
      "Processing Record 44 of Set 7 | mayumba\n",
      "Processing Record 45 of Set 7 | chokurdakh\n",
      "Processing Record 46 of Set 7 | cabo san lucas\n",
      "Processing Record 47 of Set 7 | port macquarie\n",
      "Processing Record 48 of Set 7 | pemangkat\n",
      "Processing Record 49 of Set 7 | san cristobal\n",
      "Processing Record 50 of Set 7 | kitui\n",
      "Processing Record 1 of Set 8 | paragominas\n",
      "Processing Record 2 of Set 8 | kibre mengist\n",
      "Processing Record 3 of Set 8 | baherden\n",
      "Processing Record 4 of Set 8 | pangody\n",
      "Processing Record 5 of Set 8 | ha giang\n",
      "Processing Record 6 of Set 8 | amapa\n",
      "Processing Record 7 of Set 8 | cabedelo\n",
      "Processing Record 8 of Set 8 | cairns\n",
      "Processing Record 9 of Set 8 | moron\n",
      "Processing Record 10 of Set 8 | vaitupu\n",
      "vaitupu not found. Skipping...\n"
     ]
    },
    {
     "name": "stderr",
     "output_type": "stream",
     "text": [
      "Traceback (most recent call last):\n",
      "  File \"<ipython-input-6-9fedc3df4737>\", line 34, in <module>\n",
      "    city_lat = city_weather[\"coord\"][\"lat\"]\n",
      "KeyError: 'coord'\n"
     ]
    },
    {
     "name": "stdout",
     "output_type": "stream",
     "text": [
      "Processing Record 11 of Set 8 | laguna\n",
      "Processing Record 12 of Set 8 | viedma\n",
      "Processing Record 13 of Set 8 | ostrovnoy\n",
      "Processing Record 14 of Set 8 | stadtallendorf\n",
      "Processing Record 15 of Set 8 | torbay\n",
      "Processing Record 16 of Set 8 | atakpame\n",
      "Processing Record 17 of Set 8 | lerwick\n",
      "Processing Record 18 of Set 8 | tivaouane\n",
      "Processing Record 19 of Set 8 | juneau\n",
      "Processing Record 20 of Set 8 | bowen\n",
      "Processing Record 21 of Set 8 | zhigansk\n",
      "Processing Record 22 of Set 8 | cambridge\n",
      "Processing Record 23 of Set 8 | bhadrapur\n",
      "Processing Record 24 of Set 8 | orchard homes\n",
      "Processing Record 25 of Set 8 | novyy nekouz\n",
      "Processing Record 26 of Set 8 | port-gentil\n",
      "Processing Record 27 of Set 8 | sao felix do xingu\n",
      "Processing Record 28 of Set 8 | los banos\n",
      "Processing Record 29 of Set 8 | hasaki\n",
      "Processing Record 30 of Set 8 | casma\n",
      "Processing Record 31 of Set 8 | ariquemes\n",
      "Processing Record 32 of Set 8 | whitehorse\n",
      "Processing Record 33 of Set 8 | copala\n",
      "Processing Record 34 of Set 8 | yumen\n",
      "Processing Record 35 of Set 8 | khandyga\n",
      "Processing Record 36 of Set 8 | tiksi\n",
      "Processing Record 37 of Set 8 | vao\n",
      "Processing Record 38 of Set 8 | salinas\n",
      "Processing Record 39 of Set 8 | santa rosa\n",
      "Processing Record 40 of Set 8 | pontianak\n",
      "Processing Record 41 of Set 8 | morgan city\n",
      "Processing Record 42 of Set 8 | vega de alatorre\n",
      "Processing Record 43 of Set 8 | ancud\n",
      "Processing Record 44 of Set 8 | suhut\n",
      "Processing Record 45 of Set 8 | eyl\n",
      "Processing Record 46 of Set 8 | okakarara\n",
      "Processing Record 47 of Set 8 | teguise\n",
      "Processing Record 48 of Set 8 | lakatoro\n",
      "Processing Record 49 of Set 8 | sabang\n",
      "Processing Record 50 of Set 8 | huambo\n",
      "Processing Record 1 of Set 9 | russell\n",
      "Processing Record 2 of Set 9 | saint-francois\n",
      "Processing Record 3 of Set 9 | safaga\n",
      "Processing Record 4 of Set 9 | coulihaut\n",
      "coulihaut not found. Skipping...\n"
     ]
    },
    {
     "name": "stderr",
     "output_type": "stream",
     "text": [
      "Traceback (most recent call last):\n",
      "  File \"<ipython-input-6-9fedc3df4737>\", line 34, in <module>\n",
      "    city_lat = city_weather[\"coord\"][\"lat\"]\n",
      "KeyError: 'coord'\n"
     ]
    },
    {
     "name": "stdout",
     "output_type": "stream",
     "text": [
      "Processing Record 5 of Set 9 | venice\n",
      "Processing Record 6 of Set 9 | moroni\n",
      "Processing Record 7 of Set 9 | barmer\n",
      "Processing Record 8 of Set 9 | severo-yeniseyskiy\n",
      "Processing Record 9 of Set 9 | hauterive\n",
      "Processing Record 10 of Set 9 | atagay\n",
      "Processing Record 11 of Set 9 | jacareacanga\n",
      "Processing Record 12 of Set 9 | guasca\n",
      "Processing Record 13 of Set 9 | bilma\n",
      "Processing Record 14 of Set 9 | macapa\n",
      "Processing Record 15 of Set 9 | fremont\n",
      "Processing Record 16 of Set 9 | hemsedal\n",
      "Processing Record 17 of Set 9 | ixtapa\n",
      "Processing Record 18 of Set 9 | seminole\n",
      "Processing Record 19 of Set 9 | monrovia\n",
      "Processing Record 20 of Set 9 | atasu\n",
      "Processing Record 21 of Set 9 | yeppoon\n",
      "Processing Record 22 of Set 9 | bjornevatn\n",
      "Processing Record 23 of Set 9 | cumaribo\n",
      "cumaribo not found. Skipping...\n"
     ]
    },
    {
     "name": "stderr",
     "output_type": "stream",
     "text": [
      "Traceback (most recent call last):\n",
      "  File \"<ipython-input-6-9fedc3df4737>\", line 34, in <module>\n",
      "    city_lat = city_weather[\"coord\"][\"lat\"]\n",
      "KeyError: 'coord'\n"
     ]
    },
    {
     "name": "stdout",
     "output_type": "stream",
     "text": [
      "Processing Record 24 of Set 9 | las cruces\n",
      "Processing Record 25 of Set 9 | kavieng\n",
      "Processing Record 26 of Set 9 | anadyr\n",
      "Processing Record 27 of Set 9 | haibowan\n",
      "haibowan not found. Skipping...\n",
      "Processing Record 28 of Set 9 | bakau\n"
     ]
    },
    {
     "name": "stderr",
     "output_type": "stream",
     "text": [
      "Traceback (most recent call last):\n",
      "  File \"<ipython-input-6-9fedc3df4737>\", line 34, in <module>\n",
      "    city_lat = city_weather[\"coord\"][\"lat\"]\n",
      "KeyError: 'coord'\n"
     ]
    },
    {
     "name": "stdout",
     "output_type": "stream",
     "text": [
      "Processing Record 29 of Set 9 | xinqing\n",
      "Processing Record 30 of Set 9 | karla\n",
      "Processing Record 31 of Set 9 | meiganga\n",
      "Processing Record 32 of Set 9 | hoa binh\n",
      "Processing Record 33 of Set 9 | yefimovskiy\n",
      "yefimovskiy not found. Skipping...\n"
     ]
    },
    {
     "name": "stderr",
     "output_type": "stream",
     "text": [
      "Traceback (most recent call last):\n",
      "  File \"<ipython-input-6-9fedc3df4737>\", line 34, in <module>\n",
      "    city_lat = city_weather[\"coord\"][\"lat\"]\n",
      "KeyError: 'coord'\n"
     ]
    },
    {
     "name": "stdout",
     "output_type": "stream",
     "text": [
      "Processing Record 34 of Set 9 | kerema\n",
      "Processing Record 35 of Set 9 | najran\n",
      "Processing Record 36 of Set 9 | kyzyl-suu\n",
      "Processing Record 37 of Set 9 | parana\n",
      "Processing Record 38 of Set 9 | north bend\n",
      "Processing Record 39 of Set 9 | andenes\n",
      "Processing Record 40 of Set 9 | mirzapur\n",
      "Processing Record 41 of Set 9 | shingu\n",
      "Processing Record 42 of Set 9 | mayo\n",
      "Processing Record 43 of Set 9 | cardston\n",
      "Processing Record 44 of Set 9 | bay roberts\n",
      "Processing Record 45 of Set 9 | tumannyy\n",
      "tumannyy not found. Skipping...\n"
     ]
    },
    {
     "name": "stderr",
     "output_type": "stream",
     "text": [
      "Traceback (most recent call last):\n",
      "  File \"<ipython-input-6-9fedc3df4737>\", line 34, in <module>\n",
      "    city_lat = city_weather[\"coord\"][\"lat\"]\n",
      "KeyError: 'coord'\n"
     ]
    },
    {
     "name": "stdout",
     "output_type": "stream",
     "text": [
      "Processing Record 46 of Set 9 | kez\n",
      "Processing Record 47 of Set 9 | east london\n",
      "Processing Record 48 of Set 9 | norsup\n",
      "Processing Record 49 of Set 9 | reyes\n",
      "Processing Record 50 of Set 9 | kathmandu\n",
      "Processing Record 1 of Set 10 | trairi\n",
      "Processing Record 2 of Set 10 | talara\n",
      "Processing Record 3 of Set 10 | grand river south east\n",
      "grand river south east not found. Skipping...\n",
      "Processing Record 4 of Set 10 | itarema\n",
      "Processing Record 5 of Set 10 | preston\n"
     ]
    },
    {
     "name": "stderr",
     "output_type": "stream",
     "text": [
      "Traceback (most recent call last):\n",
      "  File \"<ipython-input-6-9fedc3df4737>\", line 34, in <module>\n",
      "    city_lat = city_weather[\"coord\"][\"lat\"]\n",
      "KeyError: 'coord'\n"
     ]
    },
    {
     "name": "stdout",
     "output_type": "stream",
     "text": [
      "Processing Record 6 of Set 10 | pasighat\n",
      "Processing Record 7 of Set 10 | tezu\n",
      "Processing Record 8 of Set 10 | tandil\n",
      "Processing Record 9 of Set 10 | port hardy\n",
      "Processing Record 10 of Set 10 | tekax\n",
      "tekax not found. Skipping...\n",
      "Processing Record 11 of Set 10 | roald\n"
     ]
    },
    {
     "name": "stderr",
     "output_type": "stream",
     "text": [
      "Traceback (most recent call last):\n",
      "  File \"<ipython-input-6-9fedc3df4737>\", line 34, in <module>\n",
      "    city_lat = city_weather[\"coord\"][\"lat\"]\n",
      "KeyError: 'coord'\n"
     ]
    },
    {
     "name": "stdout",
     "output_type": "stream",
     "text": [
      "Processing Record 12 of Set 10 | havelock\n",
      "Processing Record 13 of Set 10 | bentiu\n",
      "Processing Record 14 of Set 10 | cockburn town\n",
      "Processing Record 15 of Set 10 | mwene-ditu\n",
      "Processing Record 16 of Set 10 | cabra\n",
      "Processing Record 17 of Set 10 | kyaikkami\n",
      "Processing Record 18 of Set 10 | valera\n",
      "Processing Record 19 of Set 10 | esna\n",
      "Processing Record 20 of Set 10 | carnarvon\n",
      "Processing Record 21 of Set 10 | nioro\n",
      "Processing Record 22 of Set 10 | myitkyina\n",
      "Processing Record 23 of Set 10 | marca\n",
      "Processing Record 24 of Set 10 | montepuez\n",
      "Processing Record 25 of Set 10 | contai\n",
      "Processing Record 26 of Set 10 | nipawin\n",
      "Processing Record 27 of Set 10 | sahrak\n",
      "sahrak not found. Skipping...\n",
      "Processing Record 28 of Set 10 | poum\n",
      "Processing Record 29 of Set 10 | kavaratti\n"
     ]
    },
    {
     "name": "stderr",
     "output_type": "stream",
     "text": [
      "Traceback (most recent call last):\n",
      "  File \"<ipython-input-6-9fedc3df4737>\", line 34, in <module>\n",
      "    city_lat = city_weather[\"coord\"][\"lat\"]\n",
      "KeyError: 'coord'\n"
     ]
    },
    {
     "name": "stdout",
     "output_type": "stream",
     "text": [
      "Processing Record 30 of Set 10 | sitka\n",
      "Processing Record 31 of Set 10 | dingle\n",
      "Processing Record 32 of Set 10 | disna\n",
      "Processing Record 33 of Set 10 | rio grande\n",
      "Processing Record 34 of Set 10 | magole\n",
      "Processing Record 35 of Set 10 | coari\n",
      "Processing Record 36 of Set 10 | sao joao da barra\n",
      "Processing Record 37 of Set 10 | korla\n",
      "Processing Record 38 of Set 10 | touros\n",
      "Processing Record 39 of Set 10 | xaltepec\n",
      "Processing Record 40 of Set 10 | quanzhou\n",
      "Processing Record 41 of Set 10 | yuzhno-yeniseyskiy\n",
      "yuzhno-yeniseyskiy not found. Skipping...\n",
      "Processing Record 42 of Set 10 | myrtle beach\n"
     ]
    },
    {
     "name": "stderr",
     "output_type": "stream",
     "text": [
      "Traceback (most recent call last):\n",
      "  File \"<ipython-input-6-9fedc3df4737>\", line 34, in <module>\n",
      "    city_lat = city_weather[\"coord\"][\"lat\"]\n",
      "KeyError: 'coord'\n"
     ]
    },
    {
     "name": "stdout",
     "output_type": "stream",
     "text": [
      "Processing Record 43 of Set 10 | kangaatsiaq\n",
      "Processing Record 44 of Set 10 | nome\n",
      "Processing Record 45 of Set 10 | grindavik\n",
      "Processing Record 46 of Set 10 | chaman\n",
      "Processing Record 47 of Set 10 | mogadishu\n",
      "Processing Record 48 of Set 10 | pitimbu\n",
      "Processing Record 49 of Set 10 | bongaree\n",
      "Processing Record 50 of Set 10 | el alto\n",
      "Processing Record 1 of Set 11 | cervo\n",
      "Processing Record 2 of Set 11 | djambala\n",
      "Processing Record 3 of Set 11 | rwamagana\n",
      "Processing Record 4 of Set 11 | lipin bor\n",
      "Processing Record 5 of Set 11 | bumba\n",
      "Processing Record 6 of Set 11 | hailey\n",
      "Processing Record 7 of Set 11 | bathsheba\n",
      "Processing Record 8 of Set 11 | victoria\n",
      "Processing Record 9 of Set 11 | ruatoria\n",
      "ruatoria not found. Skipping...\n",
      "Processing Record 10 of Set 11 | geraldton\n"
     ]
    },
    {
     "name": "stderr",
     "output_type": "stream",
     "text": [
      "Traceback (most recent call last):\n",
      "  File \"<ipython-input-6-9fedc3df4737>\", line 34, in <module>\n",
      "    city_lat = city_weather[\"coord\"][\"lat\"]\n",
      "KeyError: 'coord'\n"
     ]
    },
    {
     "name": "stdout",
     "output_type": "stream",
     "text": [
      "Processing Record 11 of Set 11 | broome\n",
      "Processing Record 12 of Set 11 | san carlos\n",
      "Processing Record 13 of Set 11 | kattivakkam\n",
      "Processing Record 14 of Set 11 | puerto escondido\n",
      "Processing Record 15 of Set 11 | caborca\n",
      "Processing Record 16 of Set 11 | dongkan\n",
      "Processing Record 17 of Set 11 | sao desiderio\n",
      "Processing Record 18 of Set 11 | camacha\n",
      "Processing Record 19 of Set 11 | tandlianwala\n",
      "Processing Record 20 of Set 11 | warri\n",
      "Processing Record 21 of Set 11 | yugorsk\n",
      "Processing Record 22 of Set 11 | simbahan\n",
      "Processing Record 23 of Set 11 | fairbanks\n",
      "Processing Record 24 of Set 11 | ozernovskiy\n",
      "Processing Record 25 of Set 11 | dzhebariki-khaya\n",
      "Processing Record 26 of Set 11 | giddarbaha\n",
      "Processing Record 27 of Set 11 | paro\n",
      "Processing Record 28 of Set 11 | trelleborg\n",
      "Processing Record 29 of Set 11 | san quintin\n",
      "Processing Record 30 of Set 11 | grand gaube\n",
      "Processing Record 31 of Set 11 | alekseyevka\n",
      "Processing Record 32 of Set 11 | daytona beach\n",
      "Processing Record 33 of Set 11 | manado\n",
      "Processing Record 34 of Set 11 | comodoro rivadavia\n",
      "Processing Record 35 of Set 11 | killarney\n",
      "Processing Record 36 of Set 11 | eureka\n",
      "Processing Record 37 of Set 11 | hovd\n",
      "Processing Record 38 of Set 11 | valparaiso\n",
      "Processing Record 39 of Set 11 | durres\n",
      "Processing Record 40 of Set 11 | praia\n",
      "Processing Record 41 of Set 11 | pomichna\n",
      "Processing Record 42 of Set 11 | valle del guamuez\n",
      "Processing Record 43 of Set 11 | gao\n",
      "Processing Record 44 of Set 11 | rangpur\n",
      "Processing Record 45 of Set 11 | kamenskoye\n",
      "kamenskoye not found. Skipping...\n",
      "Processing Record 46 of Set 11 | elesbao veloso\n"
     ]
    },
    {
     "name": "stderr",
     "output_type": "stream",
     "text": [
      "Traceback (most recent call last):\n",
      "  File \"<ipython-input-6-9fedc3df4737>\", line 34, in <module>\n",
      "    city_lat = city_weather[\"coord\"][\"lat\"]\n",
      "KeyError: 'coord'\n"
     ]
    },
    {
     "name": "stdout",
     "output_type": "stream",
     "text": [
      "Processing Record 47 of Set 11 | wajid\n",
      "Processing Record 48 of Set 11 | matara\n",
      "Processing Record 49 of Set 11 | lagoa\n",
      "Processing Record 50 of Set 11 | tura\n",
      "Processing Record 1 of Set 12 | diego de almagro\n",
      "Processing Record 2 of Set 12 | annau\n",
      "Processing Record 3 of Set 12 | kaputa\n",
      "Processing Record 4 of Set 12 | puerto baquerizo moreno\n",
      "Processing Record 5 of Set 12 | venado tuerto\n",
      "Processing Record 6 of Set 12 | floro\n",
      "Processing Record 7 of Set 12 | olinda\n",
      "Processing Record 8 of Set 12 | kuche\n",
      "kuche not found. Skipping...\n",
      "Processing Record 9 of Set 12 | bermeo\n"
     ]
    },
    {
     "name": "stderr",
     "output_type": "stream",
     "text": [
      "Traceback (most recent call last):\n",
      "  File \"<ipython-input-6-9fedc3df4737>\", line 34, in <module>\n",
      "    city_lat = city_weather[\"coord\"][\"lat\"]\n",
      "KeyError: 'coord'\n"
     ]
    },
    {
     "name": "stdout",
     "output_type": "stream",
     "text": [
      "Processing Record 10 of Set 12 | forest grove\n",
      "Processing Record 11 of Set 12 | yerbogachen\n",
      "Processing Record 12 of Set 12 | ambon\n",
      "Processing Record 13 of Set 12 | westport\n",
      "Processing Record 14 of Set 12 | hay river\n",
      "Processing Record 15 of Set 12 | brae\n",
      "Processing Record 16 of Set 12 | itaituba\n",
      "Processing Record 17 of Set 12 | port hawkesbury\n",
      "Processing Record 18 of Set 12 | poya\n",
      "Processing Record 19 of Set 12 | yuanping\n",
      "Processing Record 20 of Set 12 | quatre cocos\n",
      "Processing Record 21 of Set 12 | colesberg\n",
      "Processing Record 22 of Set 12 | jieshi\n",
      "Processing Record 23 of Set 12 | mangrol\n",
      "Processing Record 24 of Set 12 | asau\n",
      "Processing Record 25 of Set 12 | hamilton\n",
      "Processing Record 26 of Set 12 | angoche\n",
      "Processing Record 27 of Set 12 | sangre grande\n",
      "Processing Record 28 of Set 12 | bulancak\n",
      "Processing Record 29 of Set 12 | vestmanna\n",
      "Processing Record 30 of Set 12 | pauini\n",
      "Processing Record 31 of Set 12 | batemans bay\n",
      "Processing Record 32 of Set 12 | yaval\n",
      "Processing Record 33 of Set 12 | sargatskoye\n",
      "Processing Record 34 of Set 12 | melfi\n",
      "Processing Record 35 of Set 12 | sindgi\n",
      "Processing Record 36 of Set 12 | korem\n",
      "Processing Record 37 of Set 12 | yulara\n",
      "Processing Record 38 of Set 12 | lancaster\n",
      "Processing Record 39 of Set 12 | duz\n",
      "duz not found. Skipping...\n"
     ]
    },
    {
     "name": "stderr",
     "output_type": "stream",
     "text": [
      "Traceback (most recent call last):\n",
      "  File \"<ipython-input-6-9fedc3df4737>\", line 34, in <module>\n",
      "    city_lat = city_weather[\"coord\"][\"lat\"]\n",
      "KeyError: 'coord'\n"
     ]
    },
    {
     "name": "stdout",
     "output_type": "stream",
     "text": [
      "Processing Record 40 of Set 12 | sambava\n",
      "Processing Record 41 of Set 12 | eldikan\n",
      "eldikan not found. Skipping...\n"
     ]
    },
    {
     "name": "stderr",
     "output_type": "stream",
     "text": [
      "Traceback (most recent call last):\n",
      "  File \"<ipython-input-6-9fedc3df4737>\", line 34, in <module>\n",
      "    city_lat = city_weather[\"coord\"][\"lat\"]\n",
      "KeyError: 'coord'\n"
     ]
    },
    {
     "name": "stdout",
     "output_type": "stream",
     "text": [
      "Processing Record 42 of Set 12 | anar darreh\n",
      "anar darreh not found. Skipping...\n"
     ]
    },
    {
     "name": "stderr",
     "output_type": "stream",
     "text": [
      "Traceback (most recent call last):\n",
      "  File \"<ipython-input-6-9fedc3df4737>\", line 34, in <module>\n",
      "    city_lat = city_weather[\"coord\"][\"lat\"]\n",
      "KeyError: 'coord'\n"
     ]
    },
    {
     "name": "stdout",
     "output_type": "stream",
     "text": [
      "Processing Record 43 of Set 12 | huron\n",
      "Processing Record 44 of Set 12 | bandar\n",
      "Processing Record 45 of Set 12 | sao miguel do araguaia\n",
      "Processing Record 46 of Set 12 | thinadhoo\n",
      "Processing Record 47 of Set 12 | kosh-agach\n",
      "Processing Record 48 of Set 12 | methoni\n",
      "Processing Record 49 of Set 12 | arman\n",
      "Processing Record 50 of Set 12 | la asuncion\n",
      "Processing Record 1 of Set 13 | tuatapere\n",
      "Processing Record 2 of Set 13 | ngama\n",
      "Processing Record 3 of Set 13 | half moon bay\n",
      "Processing Record 4 of Set 13 | pagondas\n",
      "pagondas not found. Skipping...\n",
      "Processing Record 5 of Set 13 | mehamn\n",
      "Processing Record 6 of Set 13 | jishou\n"
     ]
    },
    {
     "name": "stderr",
     "output_type": "stream",
     "text": [
      "Traceback (most recent call last):\n",
      "  File \"<ipython-input-6-9fedc3df4737>\", line 34, in <module>\n",
      "    city_lat = city_weather[\"coord\"][\"lat\"]\n",
      "KeyError: 'coord'\n"
     ]
    },
    {
     "name": "stdout",
     "output_type": "stream",
     "text": [
      "-----------------------------\n",
      "Data Retrieval Complete      \n",
      "-----------------------------\n"
     ]
    }
   ],
   "source": [
    "import sys\n",
    "import traceback\n",
    "# Creates empty list that will hold weather data for cities\n",
    "city_data = []\n",
    "# Beginning of data retrieval\n",
    "print(\"Beginning Data Retrieval     \")\n",
    "print(\"-----------------------------\")\n",
    "\n",
    "# Creates counters\n",
    "record_count = 1\n",
    "set_count = 1\n",
    "\n",
    "# Loops through all the cities in list\n",
    "for i, city in enumerate(cities):\n",
    "\n",
    "    # Groups cities to more managable size (631 cities into groups of 50)\n",
    "    if (i % 50 == 0 and i >= 50):\n",
    "        set_count += 1\n",
    "        record_count = 1\n",
    "    # Creates endpoint URL with each city from our list\n",
    "    city_url = url + \"&q=\" + city\n",
    "\n",
    "    # Logs the URL, records it, and sets numbers and the city\n",
    "    print(f\"Processing Record {record_count} of Set {set_count} | {city}\")\n",
    "    \n",
    "    # Adds 1 to the record count\n",
    "    record_count += 1\n",
    "    \n",
    "    # Runs an API request for each of the cities\n",
    "    try:\n",
    "        # Parses the JSON and retrieves data\n",
    "        city_weather = requests.get(city_url).json()\n",
    "        # Retrieves the needed data\n",
    "        city_lat = city_weather[\"coord\"][\"lat\"]\n",
    "        city_lng = city_weather[\"coord\"][\"lon\"]\n",
    "        city_max_temp = city_weather[\"main\"][\"temp_max\"]\n",
    "        city_humidity = city_weather[\"main\"][\"humidity\"]  \n",
    "        city_clouds = city_weather[\"clouds\"][\"all\"]\n",
    "        city_wind = city_weather[\"wind\"][\"speed\"]\n",
    "        city_country = city_weather[\"sys\"][\"country\"]\n",
    "        city_description = city_weather[\"weather\"][0][\"description\"]\n",
    "        city_date = datetime.utcfromtimestamp(city_weather[\"dt\"]).strftime('%Y-%m-%d %H:%M:%S')\n",
    "        try:\n",
    "            city_rain = city_weather[\"rain\"][\"3h\"]\n",
    "        except KeyError:      \n",
    "            city_rain = 0\n",
    "        try:\n",
    "            city_snow = city_weather[\"snow\"][\"3h\"]\n",
    "        except KeyError:\n",
    "            city_snow = 0\n",
    "            \n",
    "        city_data.append({\"City\": city.title(), \"Country\": city_country, \"Date\": city_date,\n",
    "                          \"Lat\": city_lat,\"Lng\": city_lng, \"Max Temp\": city_max_temp,\n",
    "                          \"Current Description\": city_description, \"Humidity\": city_humidity, \"Clouds\": city_clouds,\n",
    "                          \"Wind Speed\": city_wind, \"Rain (last 3h)\": city_rain, \"Snow (last 3h)\": city_snow})\n",
    "\n",
    "# If an error is experienced, skips the city\n",
    "    except:\n",
    "        print(city + \" not found. Skipping...\")\n",
    "        traceback.print_exc()\n",
    "        pass\n",
    "\n",
    "# Indicates completed data retrieval\n",
    "print(\"-----------------------------\")\n",
    "print(\"Data Retrieval Complete      \") \n",
    "print(\"-----------------------------\")"
   ]
  },
  {
   "cell_type": "code",
   "execution_count": 7,
   "metadata": {},
   "outputs": [
    {
     "data": {
      "text/html": [
       "<div>\n",
       "<style scoped>\n",
       "    .dataframe tbody tr th:only-of-type {\n",
       "        vertical-align: middle;\n",
       "    }\n",
       "\n",
       "    .dataframe tbody tr th {\n",
       "        vertical-align: top;\n",
       "    }\n",
       "\n",
       "    .dataframe thead th {\n",
       "        text-align: right;\n",
       "    }\n",
       "</style>\n",
       "<table border=\"1\" class=\"dataframe\">\n",
       "  <thead>\n",
       "    <tr style=\"text-align: right;\">\n",
       "      <th></th>\n",
       "      <th>City</th>\n",
       "      <th>Country</th>\n",
       "      <th>Date</th>\n",
       "      <th>Lat</th>\n",
       "      <th>Lng</th>\n",
       "      <th>Max Temp</th>\n",
       "      <th>Current Description</th>\n",
       "      <th>Humidity</th>\n",
       "      <th>Clouds</th>\n",
       "      <th>Wind Speed</th>\n",
       "      <th>Rain (last 3h)</th>\n",
       "      <th>Snow (last 3h)</th>\n",
       "    </tr>\n",
       "  </thead>\n",
       "  <tbody>\n",
       "    <tr>\n",
       "      <th>0</th>\n",
       "      <td>Puerto Ayora</td>\n",
       "      <td>EC</td>\n",
       "      <td>2020-04-19 20:27:48</td>\n",
       "      <td>-0.74</td>\n",
       "      <td>-90.35</td>\n",
       "      <td>86.00</td>\n",
       "      <td>shower rain</td>\n",
       "      <td>70</td>\n",
       "      <td>40</td>\n",
       "      <td>16.11</td>\n",
       "      <td>0.00</td>\n",
       "      <td>0.0</td>\n",
       "    </tr>\n",
       "    <tr>\n",
       "      <th>1</th>\n",
       "      <td>Butaritari</td>\n",
       "      <td>KI</td>\n",
       "      <td>2020-04-19 20:25:37</td>\n",
       "      <td>3.07</td>\n",
       "      <td>172.79</td>\n",
       "      <td>83.10</td>\n",
       "      <td>light rain</td>\n",
       "      <td>76</td>\n",
       "      <td>28</td>\n",
       "      <td>10.04</td>\n",
       "      <td>0.37</td>\n",
       "      <td>0.0</td>\n",
       "    </tr>\n",
       "    <tr>\n",
       "      <th>2</th>\n",
       "      <td>Hobart</td>\n",
       "      <td>AU</td>\n",
       "      <td>2020-04-19 20:25:37</td>\n",
       "      <td>-42.88</td>\n",
       "      <td>147.33</td>\n",
       "      <td>51.80</td>\n",
       "      <td>light intensity shower rain</td>\n",
       "      <td>81</td>\n",
       "      <td>75</td>\n",
       "      <td>13.27</td>\n",
       "      <td>0.00</td>\n",
       "      <td>0.0</td>\n",
       "    </tr>\n",
       "    <tr>\n",
       "      <th>3</th>\n",
       "      <td>Longyearbyen</td>\n",
       "      <td>SJ</td>\n",
       "      <td>2020-04-19 20:24:41</td>\n",
       "      <td>78.22</td>\n",
       "      <td>15.64</td>\n",
       "      <td>33.80</td>\n",
       "      <td>light intensity drizzle</td>\n",
       "      <td>69</td>\n",
       "      <td>75</td>\n",
       "      <td>38.03</td>\n",
       "      <td>0.00</td>\n",
       "      <td>0.0</td>\n",
       "    </tr>\n",
       "    <tr>\n",
       "      <th>4</th>\n",
       "      <td>Honningsvag</td>\n",
       "      <td>NO</td>\n",
       "      <td>2020-04-19 20:30:01</td>\n",
       "      <td>70.98</td>\n",
       "      <td>25.97</td>\n",
       "      <td>39.20</td>\n",
       "      <td>light intensity drizzle</td>\n",
       "      <td>86</td>\n",
       "      <td>75</td>\n",
       "      <td>20.80</td>\n",
       "      <td>0.00</td>\n",
       "      <td>0.0</td>\n",
       "    </tr>\n",
       "    <tr>\n",
       "      <th>5</th>\n",
       "      <td>Esperance</td>\n",
       "      <td>AU</td>\n",
       "      <td>2020-04-19 20:28:38</td>\n",
       "      <td>-33.87</td>\n",
       "      <td>121.90</td>\n",
       "      <td>50.00</td>\n",
       "      <td>clear sky</td>\n",
       "      <td>93</td>\n",
       "      <td>0</td>\n",
       "      <td>6.93</td>\n",
       "      <td>0.00</td>\n",
       "      <td>0.0</td>\n",
       "    </tr>\n",
       "    <tr>\n",
       "      <th>6</th>\n",
       "      <td>Busselton</td>\n",
       "      <td>AU</td>\n",
       "      <td>2020-04-19 20:23:44</td>\n",
       "      <td>-33.65</td>\n",
       "      <td>115.33</td>\n",
       "      <td>55.00</td>\n",
       "      <td>broken clouds</td>\n",
       "      <td>61</td>\n",
       "      <td>79</td>\n",
       "      <td>17.05</td>\n",
       "      <td>0.00</td>\n",
       "      <td>0.0</td>\n",
       "    </tr>\n",
       "    <tr>\n",
       "      <th>7</th>\n",
       "      <td>Liverpool</td>\n",
       "      <td>GB</td>\n",
       "      <td>2020-04-19 20:30:02</td>\n",
       "      <td>53.41</td>\n",
       "      <td>-2.98</td>\n",
       "      <td>52.00</td>\n",
       "      <td>clear sky</td>\n",
       "      <td>56</td>\n",
       "      <td>0</td>\n",
       "      <td>12.75</td>\n",
       "      <td>0.00</td>\n",
       "      <td>0.0</td>\n",
       "    </tr>\n",
       "    <tr>\n",
       "      <th>8</th>\n",
       "      <td>Saint-Augustin</td>\n",
       "      <td>CA</td>\n",
       "      <td>2020-04-19 20:25:11</td>\n",
       "      <td>51.23</td>\n",
       "      <td>-58.65</td>\n",
       "      <td>31.35</td>\n",
       "      <td>overcast clouds</td>\n",
       "      <td>93</td>\n",
       "      <td>100</td>\n",
       "      <td>14.54</td>\n",
       "      <td>0.00</td>\n",
       "      <td>0.0</td>\n",
       "    </tr>\n",
       "    <tr>\n",
       "      <th>9</th>\n",
       "      <td>Lebu</td>\n",
       "      <td>CL</td>\n",
       "      <td>2020-04-19 20:26:26</td>\n",
       "      <td>-37.62</td>\n",
       "      <td>-73.65</td>\n",
       "      <td>58.77</td>\n",
       "      <td>overcast clouds</td>\n",
       "      <td>67</td>\n",
       "      <td>100</td>\n",
       "      <td>10.25</td>\n",
       "      <td>0.00</td>\n",
       "      <td>0.0</td>\n",
       "    </tr>\n",
       "  </tbody>\n",
       "</table>\n",
       "</div>"
      ],
      "text/plain": [
       "             City Country                 Date    Lat     Lng  Max Temp  \\\n",
       "0    Puerto Ayora      EC  2020-04-19 20:27:48  -0.74  -90.35     86.00   \n",
       "1      Butaritari      KI  2020-04-19 20:25:37   3.07  172.79     83.10   \n",
       "2          Hobart      AU  2020-04-19 20:25:37 -42.88  147.33     51.80   \n",
       "3    Longyearbyen      SJ  2020-04-19 20:24:41  78.22   15.64     33.80   \n",
       "4     Honningsvag      NO  2020-04-19 20:30:01  70.98   25.97     39.20   \n",
       "5       Esperance      AU  2020-04-19 20:28:38 -33.87  121.90     50.00   \n",
       "6       Busselton      AU  2020-04-19 20:23:44 -33.65  115.33     55.00   \n",
       "7       Liverpool      GB  2020-04-19 20:30:02  53.41   -2.98     52.00   \n",
       "8  Saint-Augustin      CA  2020-04-19 20:25:11  51.23  -58.65     31.35   \n",
       "9            Lebu      CL  2020-04-19 20:26:26 -37.62  -73.65     58.77   \n",
       "\n",
       "           Current Description  Humidity  Clouds  Wind Speed  Rain (last 3h)  \\\n",
       "0                  shower rain        70      40       16.11            0.00   \n",
       "1                   light rain        76      28       10.04            0.37   \n",
       "2  light intensity shower rain        81      75       13.27            0.00   \n",
       "3      light intensity drizzle        69      75       38.03            0.00   \n",
       "4      light intensity drizzle        86      75       20.80            0.00   \n",
       "5                    clear sky        93       0        6.93            0.00   \n",
       "6                broken clouds        61      79       17.05            0.00   \n",
       "7                    clear sky        56       0       12.75            0.00   \n",
       "8              overcast clouds        93     100       14.54            0.00   \n",
       "9              overcast clouds        67     100       10.25            0.00   \n",
       "\n",
       "   Snow (last 3h)  \n",
       "0             0.0  \n",
       "1             0.0  \n",
       "2             0.0  \n",
       "3             0.0  \n",
       "4             0.0  \n",
       "5             0.0  \n",
       "6             0.0  \n",
       "7             0.0  \n",
       "8             0.0  \n",
       "9             0.0  "
      ]
     },
     "execution_count": 7,
     "metadata": {},
     "output_type": "execute_result"
    }
   ],
   "source": [
    "weather_df = pd.DataFrame(city_data)\n",
    "weather_df.head(10)"
   ]
  },
  {
   "cell_type": "code",
   "execution_count": 10,
   "metadata": {},
   "outputs": [
    {
     "data": {
      "text/plain": [
       "86"
      ]
     },
     "execution_count": 10,
     "metadata": {},
     "output_type": "execute_result"
    }
   ],
   "source": [
    "# Calculates the amount of cities that it rained in\n",
    "(weather_df[\"Rain (last 3h)\"]!= 0).sum()"
   ]
  },
  {
   "cell_type": "code",
   "execution_count": 11,
   "metadata": {},
   "outputs": [
    {
     "data": {
      "text/plain": [
       "9"
      ]
     },
     "execution_count": 11,
     "metadata": {},
     "output_type": "execute_result"
    }
   ],
   "source": [
    "# Calculates the amount of cities that it snowed in\n",
    "(weather_df[\"Snow (last 3h)\"]!= 0). sum()"
   ]
  },
  {
   "cell_type": "code",
   "execution_count": 12,
   "metadata": {},
   "outputs": [],
   "source": [
    "# Creates the output file (CSV)\n",
    "challenge_data_file = \"weatherPy_challenge.csv\"\n",
    "# Export city_data to to a CSV\n",
    "weather_df.to_csv(challenge_data_file, index_label = \"City_ID\")"
   ]
  }
 ],
 "metadata": {
  "kernelspec": {
   "display_name": "PythonData",
   "language": "python",
   "name": "pythondata"
  },
  "language_info": {
   "codemirror_mode": {
    "name": "ipython",
    "version": 3
   },
   "file_extension": ".py",
   "mimetype": "text/x-python",
   "name": "python",
   "nbconvert_exporter": "python",
   "pygments_lexer": "ipython3",
   "version": "3.7.7"
  }
 },
 "nbformat": 4,
 "nbformat_minor": 4
}
